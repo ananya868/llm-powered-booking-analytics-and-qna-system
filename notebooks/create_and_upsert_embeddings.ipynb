{
 "cells": [
  {
   "cell_type": "code",
   "execution_count": 3,
   "metadata": {},
   "outputs": [
    {
     "name": "stderr",
     "output_type": "stream",
     "text": [
      "c:\\Users\\91790\\anaconda3\\Lib\\site-packages\\pandas\\core\\arrays\\masked.py:60: UserWarning: Pandas requires version '1.3.6' or newer of 'bottleneck' (version '1.3.5' currently installed).\n",
      "  from pandas.core import (\n"
     ]
    }
   ],
   "source": [
    "import pandas as pd \n",
    "import numpy as np\n",
    "import os \n",
    "import json "
   ]
  },
  {
   "cell_type": "code",
   "execution_count": 14,
   "metadata": {},
   "outputs": [],
   "source": [
    "text_df, global_metrics_df = pd.read_csv('data/structured/text_data.csv'), pd.read_csv('data/structured/global_metrics_df.csv')"
   ]
  },
  {
   "cell_type": "code",
   "execution_count": 15,
   "metadata": {},
   "outputs": [
    {
     "data": {
      "text/html": [
       "<div>\n",
       "<style scoped>\n",
       "    .dataframe tbody tr th:only-of-type {\n",
       "        vertical-align: middle;\n",
       "    }\n",
       "\n",
       "    .dataframe tbody tr th {\n",
       "        vertical-align: top;\n",
       "    }\n",
       "\n",
       "    .dataframe thead th {\n",
       "        text-align: right;\n",
       "    }\n",
       "</style>\n",
       "<table border=\"1\" class=\"dataframe\">\n",
       "  <thead>\n",
       "    <tr style=\"text-align: right;\">\n",
       "      <th></th>\n",
       "      <th>text_data</th>\n",
       "    </tr>\n",
       "  </thead>\n",
       "  <tbody>\n",
       "    <tr>\n",
       "      <th>33629</th>\n",
       "      <td>A guest booked a Resort Hotel with 2 adults, 1...</td>\n",
       "    </tr>\n",
       "    <tr>\n",
       "      <th>71243</th>\n",
       "      <td>A guest booked a City Hotel with 1 adults, 0.0...</td>\n",
       "    </tr>\n",
       "    <tr>\n",
       "      <th>57933</th>\n",
       "      <td>A guest booked a City Hotel with 2 adults, 0.0...</td>\n",
       "    </tr>\n",
       "  </tbody>\n",
       "</table>\n",
       "</div>"
      ],
      "text/plain": [
       "                                               text_data\n",
       "33629  A guest booked a Resort Hotel with 2 adults, 1...\n",
       "71243  A guest booked a City Hotel with 1 adults, 0.0...\n",
       "57933  A guest booked a City Hotel with 2 adults, 0.0..."
      ]
     },
     "execution_count": 15,
     "metadata": {},
     "output_type": "execute_result"
    }
   ],
   "source": [
    "text_df.sample(3)"
   ]
  },
  {
   "cell_type": "code",
   "execution_count": 16,
   "metadata": {},
   "outputs": [
    {
     "data": {
      "text/html": [
       "<div>\n",
       "<style scoped>\n",
       "    .dataframe tbody tr th:only-of-type {\n",
       "        vertical-align: middle;\n",
       "    }\n",
       "\n",
       "    .dataframe tbody tr th {\n",
       "        vertical-align: top;\n",
       "    }\n",
       "\n",
       "    .dataframe thead th {\n",
       "        text-align: right;\n",
       "    }\n",
       "</style>\n",
       "<table border=\"1\" class=\"dataframe\">\n",
       "  <thead>\n",
       "    <tr style=\"text-align: right;\">\n",
       "      <th></th>\n",
       "      <th>text_data</th>\n",
       "    </tr>\n",
       "  </thead>\n",
       "  <tbody>\n",
       "    <tr>\n",
       "      <th>215</th>\n",
       "      <td>The country ZAF had a total of 31 cancellations.</td>\n",
       "    </tr>\n",
       "    <tr>\n",
       "      <th>314</th>\n",
       "      <td>The True season had a total of 39247 bookings.</td>\n",
       "    </tr>\n",
       "    <tr>\n",
       "      <th>64</th>\n",
       "      <td>The country BLR had a total of 9 cancellations.</td>\n",
       "    </tr>\n",
       "  </tbody>\n",
       "</table>\n",
       "</div>"
      ],
      "text/plain": [
       "                                            text_data\n",
       "215  The country ZAF had a total of 31 cancellations.\n",
       "314    The True season had a total of 39247 bookings.\n",
       "64    The country BLR had a total of 9 cancellations."
      ]
     },
     "execution_count": 16,
     "metadata": {},
     "output_type": "execute_result"
    }
   ],
   "source": [
    "global_metrics_df.sample(3)"
   ]
  },
  {
   "cell_type": "code",
   "execution_count": 17,
   "metadata": {},
   "outputs": [],
   "source": [
    "# Merge the two dataframes on the 'text_data' column using concat \n",
    "data = pd.concat([global_metrics_df, text_df], axis=0).reset_index(drop=True)"
   ]
  },
  {
   "cell_type": "code",
   "execution_count": 18,
   "metadata": {},
   "outputs": [
    {
     "data": {
      "text/html": [
       "<div>\n",
       "<style scoped>\n",
       "    .dataframe tbody tr th:only-of-type {\n",
       "        vertical-align: middle;\n",
       "    }\n",
       "\n",
       "    .dataframe tbody tr th {\n",
       "        vertical-align: top;\n",
       "    }\n",
       "\n",
       "    .dataframe thead th {\n",
       "        text-align: right;\n",
       "    }\n",
       "</style>\n",
       "<table border=\"1\" class=\"dataframe\">\n",
       "  <thead>\n",
       "    <tr style=\"text-align: right;\">\n",
       "      <th></th>\n",
       "      <th>text_data</th>\n",
       "    </tr>\n",
       "  </thead>\n",
       "  <tbody>\n",
       "    <tr>\n",
       "      <th>0</th>\n",
       "      <td>In 2015, the total revenue for the month of Ju...</td>\n",
       "    </tr>\n",
       "    <tr>\n",
       "      <th>1</th>\n",
       "      <td>In 2015, the total revenue for the month of Au...</td>\n",
       "    </tr>\n",
       "    <tr>\n",
       "      <th>2</th>\n",
       "      <td>In 2015, the total revenue for the month of Se...</td>\n",
       "    </tr>\n",
       "    <tr>\n",
       "      <th>3</th>\n",
       "      <td>In 2015, the total revenue for the month of Oc...</td>\n",
       "    </tr>\n",
       "    <tr>\n",
       "      <th>4</th>\n",
       "      <td>In 2015, the total revenue for the month of No...</td>\n",
       "    </tr>\n",
       "    <tr>\n",
       "      <th>...</th>\n",
       "      <td>...</td>\n",
       "    </tr>\n",
       "    <tr>\n",
       "      <th>119732</th>\n",
       "      <td>A guest booked a City Hotel with 2 adults, 0.0...</td>\n",
       "    </tr>\n",
       "    <tr>\n",
       "      <th>119733</th>\n",
       "      <td>A guest booked a City Hotel with 3 adults, 0.0...</td>\n",
       "    </tr>\n",
       "    <tr>\n",
       "      <th>119734</th>\n",
       "      <td>A guest booked a City Hotel with 2 adults, 0.0...</td>\n",
       "    </tr>\n",
       "    <tr>\n",
       "      <th>119735</th>\n",
       "      <td>A guest booked a City Hotel with 2 adults, 0.0...</td>\n",
       "    </tr>\n",
       "    <tr>\n",
       "      <th>119736</th>\n",
       "      <td>A guest booked a City Hotel with 2 adults, 0.0...</td>\n",
       "    </tr>\n",
       "  </tbody>\n",
       "</table>\n",
       "<p>119737 rows × 1 columns</p>\n",
       "</div>"
      ],
      "text/plain": [
       "                                                text_data\n",
       "0       In 2015, the total revenue for the month of Ju...\n",
       "1       In 2015, the total revenue for the month of Au...\n",
       "2       In 2015, the total revenue for the month of Se...\n",
       "3       In 2015, the total revenue for the month of Oc...\n",
       "4       In 2015, the total revenue for the month of No...\n",
       "...                                                   ...\n",
       "119732  A guest booked a City Hotel with 2 adults, 0.0...\n",
       "119733  A guest booked a City Hotel with 3 adults, 0.0...\n",
       "119734  A guest booked a City Hotel with 2 adults, 0.0...\n",
       "119735  A guest booked a City Hotel with 2 adults, 0.0...\n",
       "119736  A guest booked a City Hotel with 2 adults, 0.0...\n",
       "\n",
       "[119737 rows x 1 columns]"
      ]
     },
     "execution_count": 18,
     "metadata": {},
     "output_type": "execute_result"
    }
   ],
   "source": [
    "data"
   ]
  },
  {
   "cell_type": "code",
   "execution_count": 19,
   "metadata": {},
   "outputs": [
    {
     "data": {
      "text/plain": [
       "text_data    53\n",
       "dtype: int64"
      ]
     },
     "execution_count": 19,
     "metadata": {},
     "output_type": "execute_result"
    }
   ],
   "source": [
    "data.isna().sum()"
   ]
  },
  {
   "cell_type": "code",
   "execution_count": 20,
   "metadata": {},
   "outputs": [],
   "source": [
    "# Remove null values from data dataframe \n",
    "data = data.dropna()"
   ]
  },
  {
   "cell_type": "code",
   "execution_count": 21,
   "metadata": {},
   "outputs": [
    {
     "data": {
      "text/plain": [
       "text_data    0\n",
       "dtype: int64"
      ]
     },
     "execution_count": 21,
     "metadata": {},
     "output_type": "execute_result"
    }
   ],
   "source": [
    "data.isna().sum()"
   ]
  },
  {
   "cell_type": "code",
   "execution_count": 22,
   "metadata": {},
   "outputs": [],
   "source": [
    "text_data = data['text_data'].tolist()"
   ]
  },
  {
   "cell_type": "code",
   "execution_count": 23,
   "metadata": {},
   "outputs": [
    {
     "data": {
      "text/plain": [
       "['In 2015, the total revenue for the month of July was 588400.00 USD. This reflects the booking revenue generated by the hotel during this period.',\n",
       " 'In 2015, the total revenue for the month of August was 898091.00 USD. This reflects the booking revenue generated by the hotel during this period.',\n",
       " 'In 2015, the total revenue for the month of September was 917673.00 USD. This reflects the booking revenue generated by the hotel during this period.',\n",
       " 'In 2015, the total revenue for the month of October was 716712.00 USD. This reflects the booking revenue generated by the hotel during this period.',\n",
       " 'In 2015, the total revenue for the month of November was 236721.00 USD. This reflects the booking revenue generated by the hotel during this period.']"
      ]
     },
     "execution_count": 23,
     "metadata": {},
     "output_type": "execute_result"
    }
   ],
   "source": [
    "text_data[:5]"
   ]
  },
  {
   "cell_type": "markdown",
   "metadata": {},
   "source": [
    "---\n",
    "Creating Embeddings"
   ]
  },
  {
   "cell_type": "code",
   "execution_count": 9,
   "metadata": {},
   "outputs": [
    {
     "name": "stdout",
     "output_type": "stream",
     "text": [
      "WARNING:tensorflow:From c:\\Users\\91790\\anaconda3\\Lib\\site-packages\\tf_keras\\src\\losses.py:2976: The name tf.losses.sparse_softmax_cross_entropy is deprecated. Please use tf.compat.v1.losses.sparse_softmax_cross_entropy instead.\n",
      "\n"
     ]
    }
   ],
   "source": [
    "from sentence_transformers import SentenceTransformer"
   ]
  },
  {
   "cell_type": "code",
   "execution_count": 33,
   "metadata": {},
   "outputs": [
    {
     "name": "stdout",
     "output_type": "stream",
     "text": [
      "False\n",
      "0\n"
     ]
    }
   ],
   "source": [
    "import torch\n",
    "\n",
    "print(torch.cuda.is_available())  # Should return True if GPU is detected\n",
    "print(torch.cuda.device_count())  # Number of GPUs detected\n",
    "# print(torch.cuda.get_device_name(0))  # Name of the first GPU"
   ]
  },
  {
   "cell_type": "code",
   "execution_count": 11,
   "metadata": {},
   "outputs": [],
   "source": [
    "embedder = SentenceTransformer(\"sentence-transformers/all-MiniLM-L6-v2\")"
   ]
  },
  {
   "cell_type": "code",
   "execution_count": 36,
   "metadata": {},
   "outputs": [
    {
     "data": {
      "application/vnd.jupyter.widget-view+json": {
       "model_id": "880e3a28a3a2470198cace2a1ce7954b",
       "version_major": 2,
       "version_minor": 0
      },
      "text/plain": [
       "Batches:   0%|          | 0/7481 [00:00<?, ?it/s]"
      ]
     },
     "metadata": {},
     "output_type": "display_data"
    }
   ],
   "source": [
    "embeddings = embedder.encode(text_data, batch_size=16, show_progress_bar=True)"
   ]
  },
  {
   "cell_type": "code",
   "execution_count": 41,
   "metadata": {},
   "outputs": [],
   "source": [
    "# Save these embeddings to disk\n",
    "np.save('data/structured/embeddings.npy', embeddings)"
   ]
  },
  {
   "cell_type": "markdown",
   "metadata": {},
   "source": [
    "---"
   ]
  },
  {
   "cell_type": "markdown",
   "metadata": {},
   "source": [
    "### Load Saved Embeddings"
   ]
  },
  {
   "cell_type": "code",
   "execution_count": 4,
   "metadata": {},
   "outputs": [],
   "source": [
    "# load the embeddings from disk\n",
    "embeddings = np.load('data/structured/embeddings.npy')"
   ]
  },
  {
   "cell_type": "code",
   "execution_count": 118,
   "metadata": {},
   "outputs": [
    {
     "name": "stdout",
     "output_type": "stream",
     "text": [
      "<class 'sentence_transformers.SentenceTransformer.SentenceTransformer'>\n"
     ]
    }
   ],
   "source": [
    "print(type(embedder))"
   ]
  },
  {
   "cell_type": "code",
   "execution_count": 5,
   "metadata": {},
   "outputs": [
    {
     "data": {
      "text/plain": [
       "array([[ 0.0766786 ,  0.01734373, -0.02381854, ..., -0.11824384,\n",
       "        -0.03148815, -0.09610205],\n",
       "       [ 0.0490954 ,  0.01373599, -0.03305401, ..., -0.1166638 ,\n",
       "        -0.05858671, -0.10482675],\n",
       "       [ 0.0535932 , -0.02918408, -0.03687486, ..., -0.13470587,\n",
       "        -0.05519529, -0.07855507],\n",
       "       ...,\n",
       "       [ 0.03991789,  0.05281889, -0.04423684, ...,  0.01935323,\n",
       "        -0.09267406, -0.04211508],\n",
       "       [ 0.04451197,  0.06263656, -0.04673076, ...,  0.0162664 ,\n",
       "        -0.09152321, -0.04120836],\n",
       "       [ 0.04052964,  0.05498633, -0.05035856, ...,  0.02399173,\n",
       "        -0.08753999, -0.04146033]], dtype=float32)"
      ]
     },
     "execution_count": 5,
     "metadata": {},
     "output_type": "execute_result"
    }
   ],
   "source": [
    "embeddings"
   ]
  },
  {
   "cell_type": "markdown",
   "metadata": {},
   "source": [
    "---"
   ]
  },
  {
   "cell_type": "markdown",
   "metadata": {},
   "source": [
    "### Uploading Embeddings to index "
   ]
  },
  {
   "cell_type": "code",
   "execution_count": 144,
   "metadata": {},
   "outputs": [],
   "source": [
    "PINECONE_API_KEY = \"\""
   ]
  },
  {
   "cell_type": "code",
   "execution_count": 6,
   "metadata": {},
   "outputs": [],
   "source": [
    "from pinecone import Pinecone, ServerlessSpec\n",
    "\n",
    "pc = Pinecone(api_key=PINECONE_API_KEY)"
   ]
  },
  {
   "cell_type": "markdown",
   "metadata": {},
   "source": [
    "Creating Index"
   ]
  },
  {
   "cell_type": "code",
   "execution_count": 9,
   "metadata": {},
   "outputs": [],
   "source": [
    "index_name = \"hotelbookings\"\n",
    "\n",
    "pc.create_index(\n",
    "    name=index_name,\n",
    "    dimension=384,\n",
    "    metric=\"cosine\", \n",
    "    spec=ServerlessSpec(\n",
    "        cloud=\"aws\",\n",
    "        region=\"us-east-1\"\n",
    "    ) \n",
    ")"
   ]
  },
  {
   "cell_type": "code",
   "execution_count": 10,
   "metadata": {},
   "outputs": [
    {
     "data": {
      "text/plain": [
       "{'indexes': [{'deletion_protection': 'disabled',\n",
       "              'dimension': 384,\n",
       "              'host': 'hotelbookings-tqz6la2.svc.aped-4627-b74a.pinecone.io',\n",
       "              'metric': 'cosine',\n",
       "              'name': 'hotelbookings',\n",
       "              'spec': {'serverless': {'cloud': 'aws', 'region': 'us-east-1'}},\n",
       "              'status': {'ready': True, 'state': 'Ready'}}]}"
      ]
     },
     "execution_count": 10,
     "metadata": {},
     "output_type": "execute_result"
    }
   ],
   "source": [
    "pc.list_indexes()"
   ]
  },
  {
   "cell_type": "code",
   "execution_count": 25,
   "metadata": {},
   "outputs": [
    {
     "name": "stdout",
     "output_type": "stream",
     "text": [
      "<class 'numpy.ndarray'>\n"
     ]
    }
   ],
   "source": [
    "for e in embeddings:\n",
    "    print(type(e))\n",
    "    break"
   ]
  },
  {
   "cell_type": "code",
   "execution_count": 27,
   "metadata": {},
   "outputs": [],
   "source": [
    "vectors = []\n",
    "\n",
    "# PineCone Format \n",
    "num = 1\n",
    "for t, e in zip(text_data, embeddings):\n",
    "    vectors.append(\n",
    "        {\n",
    "            \"id\": f\"vector_{num}\",\n",
    "            \"values\": e, \n",
    "            \"metadata\": {\"text\": t}\n",
    "        }\n",
    "    )\n",
    "    num += 1"
   ]
  },
  {
   "cell_type": "code",
   "execution_count": 32,
   "metadata": {},
   "outputs": [],
   "source": [
    "# Wait for the index to be ready\n",
    "\n",
    "while not pc.describe_index(index_name).status['ready']:\n",
    "\n",
    "    time.sleep(1)"
   ]
  },
  {
   "cell_type": "code",
   "execution_count": 33,
   "metadata": {},
   "outputs": [],
   "source": [
    "index = pc.Index(index_name)"
   ]
  },
  {
   "cell_type": "markdown",
   "metadata": {},
   "source": [
    "Upserting"
   ]
  },
  {
   "cell_type": "code",
   "execution_count": 38,
   "metadata": {},
   "outputs": [
    {
     "name": "stdout",
     "output_type": "stream",
     "text": [
      "Total batches: 2394\n"
     ]
    }
   ],
   "source": [
    "from tqdm import tqdm\n",
    "\n",
    "# Define a smaller batch size\n",
    "BATCH_SIZE = 50  \n",
    "\n",
    "# Progress bar setup\n",
    "total_batches = len(vectors) // BATCH_SIZE + (len(vectors) % BATCH_SIZE > 0)  # Total batch count\n",
    "print(f\"Total batches: {total_batches}\")"
   ]
  },
  {
   "cell_type": "code",
   "execution_count": 39,
   "metadata": {},
   "outputs": [
    {
     "name": "stdout",
     "output_type": "stream",
     "text": [
      "Uploading 119684 vectors in 2394 batches...\n"
     ]
    },
    {
     "name": "stderr",
     "output_type": "stream",
     "text": [
      "Uploading vectors: 100%|██████████| 2394/2394 [24:20<00:00,  1.64batch/s]"
     ]
    },
    {
     "name": "stdout",
     "output_type": "stream",
     "text": [
      "✅ Upload complete!\n"
     ]
    },
    {
     "name": "stderr",
     "output_type": "stream",
     "text": [
      "\n"
     ]
    }
   ],
   "source": [
    "print(f\"Uploading {len(vectors)} vectors in {total_batches} batches...\")\n",
    "\n",
    "# Upload in smaller batches with progress tracking\n",
    "for i in tqdm(range(0, len(vectors), BATCH_SIZE), desc=\"Uploading vectors\", unit=\"batch\"):\n",
    "    batch = vectors[i : i + BATCH_SIZE]\n",
    "    index.upsert(vectors=batch)\n",
    "\n",
    "print(\"✅ Upload complete!\")"
   ]
  },
  {
   "cell_type": "code",
   "execution_count": 40,
   "metadata": {},
   "outputs": [
    {
     "name": "stdout",
     "output_type": "stream",
     "text": [
      "{'dimension': 384,\n",
      " 'index_fullness': 0.0,\n",
      " 'namespaces': {'': {'vector_count': 119684}},\n",
      " 'total_vector_count': 119684}\n"
     ]
    }
   ],
   "source": [
    "print(index.describe_index_stats())"
   ]
  },
  {
   "cell_type": "code",
   "execution_count": 112,
   "metadata": {},
   "outputs": [],
   "source": [
    "query = \"Total revenue of May in 2017?\""
   ]
  },
  {
   "cell_type": "code",
   "execution_count": 52,
   "metadata": {},
   "outputs": [
    {
     "name": "stdout",
     "output_type": "stream",
     "text": [
      "WARNING:tensorflow:From c:\\Users\\91790\\anaconda3\\Lib\\site-packages\\tf_keras\\src\\losses.py:2976: The name tf.losses.sparse_softmax_cross_entropy is deprecated. Please use tf.compat.v1.losses.sparse_softmax_cross_entropy instead.\n",
      "\n"
     ]
    }
   ],
   "source": [
    "# Convert this query to an embedding\n",
    "from sentence_transformers import SentenceTransformer"
   ]
  },
  {
   "cell_type": "code",
   "execution_count": 113,
   "metadata": {},
   "outputs": [],
   "source": [
    "embedder = SentenceTransformer(\"sentence-transformers/all-MiniLM-L6-v2\")\n",
    "query_embedding = embedder.encode([query])[0]"
   ]
  },
  {
   "cell_type": "code",
   "execution_count": 114,
   "metadata": {},
   "outputs": [
    {
     "data": {
      "text/plain": [
       "(384,)"
      ]
     },
     "execution_count": 114,
     "metadata": {},
     "output_type": "execute_result"
    }
   ],
   "source": [
    "query_embedding.shape "
   ]
  },
  {
   "cell_type": "code",
   "execution_count": 115,
   "metadata": {},
   "outputs": [
    {
     "data": {
      "text/plain": [
       "array([ 0.0506124 ,  0.00376086,  0.01435805, -0.05173252, -0.00770749],\n",
       "      dtype=float32)"
      ]
     },
     "execution_count": 115,
     "metadata": {},
     "output_type": "execute_result"
    }
   ],
   "source": [
    "query_embedding[:5]"
   ]
  },
  {
   "cell_type": "markdown",
   "metadata": {},
   "source": [
    "---"
   ]
  },
  {
   "cell_type": "code",
   "execution_count": 92,
   "metadata": {},
   "outputs": [],
   "source": [
    "from pinecone.grpc import PineconeGRPC as Pinecone"
   ]
  },
  {
   "cell_type": "code",
   "execution_count": 93,
   "metadata": {},
   "outputs": [],
   "source": [
    "pc = Pinecone(api_key=PINECONE_API_KEY)"
   ]
  },
  {
   "cell_type": "code",
   "execution_count": 94,
   "metadata": {},
   "outputs": [],
   "source": [
    "index = pc.Index(host=\"https://hotelbookings-tqz6la2.svc.aped-4627-b74a.pinecone.io\")"
   ]
  },
  {
   "cell_type": "code",
   "execution_count": 95,
   "metadata": {},
   "outputs": [
    {
     "data": {
      "text/plain": [
       "{'dimension': 384,\n",
       " 'index_fullness': 0.0,\n",
       " 'namespaces': {'': {'vector_count': 119684}},\n",
       " 'total_vector_count': 119684}"
      ]
     },
     "execution_count": 95,
     "metadata": {},
     "output_type": "execute_result"
    }
   ],
   "source": [
    "index.describe_index_stats()"
   ]
  },
  {
   "cell_type": "code",
   "execution_count": 116,
   "metadata": {},
   "outputs": [
    {
     "name": "stdout",
     "output_type": "stream",
     "text": [
      "{'matches': [{'id': 'vector_23',\n",
      "              'metadata': {'text': 'In 2017, the total revenue for the month '\n",
      "                                   'of May was 1488452.00 USD. This reflects '\n",
      "                                   'the booking revenue generated by the hotel '\n",
      "                                   'during this period.'},\n",
      "              'score': 0.7673542,\n",
      "              'sparse_values': {'indices': [], 'values': []},\n",
      "              'values': []},\n",
      "             {'id': 'vector_11',\n",
      "              'metadata': {'text': 'In 2016, the total revenue for the month '\n",
      "                                   'of May was 1043009.00 USD. This reflects '\n",
      "                                   'the booking revenue generated by the hotel '\n",
      "                                   'during this period.'},\n",
      "              'score': 0.72360766,\n",
      "              'sparse_values': {'indices': [], 'values': []},\n",
      "              'values': []}],\n",
      " 'namespace': '',\n",
      " 'usage': {'read_units': 6}}\n"
     ]
    }
   ],
   "source": [
    "response = index.query(\n",
    "    vector=query_embedding,\n",
    "    top_k=2,\n",
    "    # include_values=True,\n",
    "    include_metadata=True\n",
    ")\n",
    "    \n",
    "print(response)"
   ]
  },
  {
   "cell_type": "code",
   "execution_count": 125,
   "metadata": {},
   "outputs": [],
   "source": [
    "matches = response.matches"
   ]
  },
  {
   "cell_type": "code",
   "execution_count": 130,
   "metadata": {},
   "outputs": [],
   "source": [
    "context = []\n",
    "for i in matches:\n",
    "    context.append(i.metadata['text'])"
   ]
  },
  {
   "cell_type": "code",
   "execution_count": 131,
   "metadata": {},
   "outputs": [
    {
     "data": {
      "text/plain": [
       "['In 2017, the total revenue for the month of May was 1488452.00 USD. This reflects the booking revenue generated by the hotel during this period.',\n",
       " 'In 2016, the total revenue for the month of May was 1043009.00 USD. This reflects the booking revenue generated by the hotel during this period.']"
      ]
     },
     "execution_count": 131,
     "metadata": {},
     "output_type": "execute_result"
    }
   ],
   "source": [
    "context"
   ]
  },
  {
   "cell_type": "markdown",
   "metadata": {},
   "source": [
    "---\n",
    "LLM"
   ]
  },
  {
   "cell_type": "code",
   "execution_count": 143,
   "metadata": {},
   "outputs": [],
   "source": [
    "groq_api = \"\""
   ]
  },
  {
   "cell_type": "code",
   "execution_count": 139,
   "metadata": {},
   "outputs": [],
   "source": [
    "import groq"
   ]
  },
  {
   "cell_type": "code",
   "execution_count": 140,
   "metadata": {},
   "outputs": [],
   "source": [
    "import os\n",
    "\n",
    "from groq import Groq\n",
    "\n",
    "client = Groq(\n",
    "    api_key=groq_api,\n",
    ")"
   ]
  },
  {
   "cell_type": "code",
   "execution_count": 142,
   "metadata": {},
   "outputs": [
    {
     "name": "stdout",
     "output_type": "stream",
     "text": [
      "Fast language models have gained significant importance in recent years due to their ability to process and generate human-like language at incredible speeds. Here are some reasons why fast language models are crucial:\n",
      "\n",
      "1. **Real-time Applications**: Fast language models enable real-time applications such as chatbots, virtual assistants, and language translation systems to respond quickly and efficiently. This improves the user experience, making interactions more natural and seamless.\n",
      "2. **Improved Productivity**: Fast language models can automate tasks such as content generation, summarization, and language translation, freeing up human resources for more creative and high-value tasks. This leads to increased productivity and efficiency.\n",
      "3. **Enhanced Customer Experience**: Fast language models can help businesses respond quickly to customer inquiries, providing timely support and improving customer satisfaction. This can lead to increased customer loyalty and retention.\n",
      "4. **Competitive Advantage**: In today's fast-paced digital landscape, businesses that can respond quickly and efficiently to customer needs have a significant competitive advantage. Fast language models can provide this advantage, helping businesses stay ahead of the competition.\n",
      "5. **Scalability**: Fast language models can handle large volumes of data and process it quickly, making them ideal for large-scale applications such as social media monitoring, sentiment analysis, and content moderation.\n",
      "6. **Cost Savings**: Fast language models can reduce the need for human labor in tasks such as content generation, translation, and transcription, leading to significant cost savings.\n",
      "7. **Research and Development**: Fast language models can accelerate research and development in areas such as natural language processing, machine learning, and artificial intelligence, leading to breakthroughs and innovations.\n",
      "8. **Improved Decision-Making**: Fast language models can provide fast and accurate insights from large datasets, enabling businesses to make informed decisions quickly and confidently.\n",
      "9. **Healthcare and Emergency Services**: Fast language models can be used in healthcare and emergency services to quickly analyze medical records, diagnose diseases, and provide critical information to healthcare professionals.\n",
      "10. **Cybersecurity**: Fast language models can help detect and respond to cyber threats in real-time, improving cybersecurity and protecting sensitive information.\n",
      "\n",
      "Some examples of fast language models include:\n",
      "\n",
      "* BERT (Bidirectional Encoder Representations from Transformers)\n",
      "* RoBERTa (Robustly Optimized BERT Pretraining Approach)\n",
      "* DistilBERT (Distilled BERT)\n",
      "* ALBERT (A Lite BERT)\n",
      "* Transformer-XL\n",
      "\n",
      "These models have achieved state-of-the-art results in various natural language processing tasks, including language translation, question-answering, and text classification, and have paved the way for further research and innovation in the field.\n"
     ]
    }
   ],
   "source": [
    "chat_completion = client.chat.completions.create(\n",
    "    messages=[\n",
    "        {\n",
    "            \"role\": \"user\",\n",
    "            \"content\": \"Explain the importance of fast language models\",\n",
    "        }\n",
    "    ],\n",
    "    model=\"llama3-70b-8192\",\n",
    ")\n",
    "\n",
    "print(chat_completion.choices[0].message.content)"
   ]
  },
  {
   "cell_type": "code",
   "execution_count": null,
   "metadata": {},
   "outputs": [],
   "source": []
  }
 ],
 "metadata": {
  "kernelspec": {
   "display_name": "base",
   "language": "python",
   "name": "python3"
  },
  "language_info": {
   "codemirror_mode": {
    "name": "ipython",
    "version": 3
   },
   "file_extension": ".py",
   "mimetype": "text/x-python",
   "name": "python",
   "nbconvert_exporter": "python",
   "pygments_lexer": "ipython3",
   "version": "3.11.5"
  }
 },
 "nbformat": 4,
 "nbformat_minor": 2
}
